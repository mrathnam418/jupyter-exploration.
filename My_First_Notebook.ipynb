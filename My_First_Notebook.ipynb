{
 "cells": [
  {
   "cell_type": "markdown",
   "id": "7d405c06-534e-4e2b-9758-79c48df42150",
   "metadata": {},
   "source": [
    "My first markdown cell in jupyter"
   ]
  },
  {
   "cell_type": "code",
   "execution_count": 1,
   "id": "ef702bf3-7d5e-45b5-8d02-b36b09999d26",
   "metadata": {},
   "outputs": [
    {
     "name": "stdout",
     "output_type": "stream",
     "text": [
      "Hello, World!\n"
     ]
    }
   ],
   "source": [
    "print (\"Hello, World!\")"
   ]
  },
  {
   "cell_type": "code",
   "execution_count": null,
   "id": "179c9c32-88b9-4a6f-bfb1-bff113b02d00",
   "metadata": {},
   "outputs": [],
   "source": []
  }
 ],
 "metadata": {
  "kernelspec": {
   "display_name": "Python 3 (ipykernel)",
   "language": "python",
   "name": "python3"
  },
  "language_info": {
   "codemirror_mode": {
    "name": "ipython",
    "version": 3
   },
   "file_extension": ".py",
   "mimetype": "text/x-python",
   "name": "python",
   "nbconvert_exporter": "python",
   "pygments_lexer": "ipython3",
   "version": "3.11.7"
  }
 },
 "nbformat": 4,
 "nbformat_minor": 5
}
